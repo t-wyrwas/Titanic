{
 "cells": [
  {
   "cell_type": "code",
   "execution_count": 1,
   "metadata": {},
   "outputs": [],
   "source": [
    "from dotenv import find_dotenv, load_dotenv"
   ]
  },
  {
   "cell_type": "code",
   "execution_count": 2,
   "metadata": {},
   "outputs": [],
   "source": [
    "import requests\n",
    "from requests import session\n",
    "import os"
   ]
  },
  {
   "cell_type": "code",
   "execution_count": 3,
   "metadata": {},
   "outputs": [
    {
     "name": "stdout",
     "output_type": "stream",
     "text": [
      ".env path: C:\\Users\\tomas\\sources\\data1\\titanic\\.env\n",
      "User: twyrwas\n",
      "6MigowoKaggle7_\n"
     ]
    }
   ],
   "source": [
    "dotenv_path = find_dotenv()\n",
    "print('.env path: {0}'.format(dotenv_path))\n",
    "load_dotenv()\n",
    "kaggle_user = os.environ.get('KAGGLE_USERNAME')\n",
    "kaggle_password = os.environ.get('KAGGLE_PASSWORD')\n",
    "print('User: {0}'.format(kaggle_user))\n",
    "print(kaggle_password)\n",
    "#not used because kaggle api client is better"
   ]
  },
  {
   "cell_type": "code",
   "execution_count": 4,
   "metadata": {},
   "outputs": [
    {
     "name": "stdout",
     "output_type": "stream",
     "text": [
      "train.csv: Skipping, found more recently modified local copy (use --force to force download)\n",
      "test.csv: Skipping, found more recently modified local copy (use --force to force download)\n",
      "gender_submission.csv: Skipping, found more recently modified local copy (use --force to force download)\n"
     ]
    }
   ],
   "source": [
    "!kaggle competitions download -p \"../data/raw\" titanic"
   ]
  },
  {
   "cell_type": "code",
   "execution_count": 5,
   "metadata": {},
   "outputs": [
    {
     "name": "stdout",
     "output_type": "stream",
     "text": [
      " Volume in drive C has no label.\n",
      " Volume Serial Number is 8EEA-11BF\n",
      "\n",
      " Directory of C:\\Users\\tomas\\sources\\data1\\titanic\\data\\raw\n",
      "\n",
      "03/17/2019  10:18 PM    <DIR>          .\n",
      "03/17/2019  10:18 PM    <DIR>          ..\n",
      "03/07/2019  10:27 PM                 0 .gitkeep\n",
      "03/17/2019  10:18 PM             3,258 gender_submission.csv\n",
      "03/17/2019  10:18 PM            28,629 test.csv\n",
      "03/17/2019  10:18 PM            61,194 train.csv\n",
      "               4 File(s)         93,081 bytes\n",
      "               2 Dir(s)  34,060,402,688 bytes free\n"
     ]
    }
   ],
   "source": [
    "ls \"../data/raw\""
   ]
  },
  {
   "cell_type": "code",
   "execution_count": 6,
   "metadata": {},
   "outputs": [
    {
     "name": "stdout",
     "output_type": "stream",
     "text": [
      "Training set size: 891\n",
      "Test set size: 418\n"
     ]
    }
   ],
   "source": [
    "# %%writefile $load_data_from_csv - nice for saving script for further execution\n",
    "import os\n",
    "import csv\n",
    "\n",
    "def load_data(dataset_file_path):\n",
    "\n",
    "    with open(dataset_file_path) as csv_file:\n",
    "        csv_reader = csv.reader(csv_file, delimiter=',')\n",
    "        headers = None\n",
    "        data = list()\n",
    "        line = 0\n",
    "        for row in csv_reader:\n",
    "            if(line == 0):\n",
    "                headers = row\n",
    "            else:\n",
    "                data.append(row)\n",
    "            line += 1\n",
    "\n",
    "        return headers, data\n",
    "        \n",
    "\n",
    "raw_data_path = os.path.join(os.path.pardir, 'data', 'raw')\n",
    "train_path = os.path.join(raw_data_path, 'train.csv')\n",
    "test_path = os.path.join(raw_data_path, 'test.csv')\n",
    "\n",
    "headers, train_set = load_data(train_path)\n",
    "headers, test_set = load_data(test_path)\n",
    "\n",
    "print('Training set size: {0}'.format(len(train_set)))\n",
    "print('Test set size: {0}'.format(len(test_set)))"
   ]
  },
  {
   "cell_type": "code",
   "execution_count": 7,
   "metadata": {},
   "outputs": [
    {
     "ename": "NameError",
     "evalue": "name 'train_result' is not defined",
     "output_type": "error",
     "traceback": [
      "\u001b[1;31m---------------------------------------------------------------------------\u001b[0m",
      "\u001b[1;31mNameError\u001b[0m                                 Traceback (most recent call last)",
      "\u001b[1;32m<ipython-input-7-0ef4fc71f2f7>\u001b[0m in \u001b[0;36m<module>\u001b[1;34m\u001b[0m\n\u001b[0;32m      1\u001b[0m \u001b[1;32mfrom\u001b[0m \u001b[0mIPython\u001b[0m\u001b[1;33m.\u001b[0m\u001b[0mcore\u001b[0m\u001b[1;33m.\u001b[0m\u001b[0mdisplay\u001b[0m \u001b[1;32mimport\u001b[0m \u001b[0mdisplay\u001b[0m\u001b[1;33m,\u001b[0m \u001b[0mHTML\u001b[0m\u001b[1;33m\u001b[0m\u001b[1;33m\u001b[0m\u001b[0m\n\u001b[1;32m----> 2\u001b[1;33m \u001b[0mdisplay\u001b[0m\u001b[1;33m(\u001b[0m\u001b[0mHTML\u001b[0m\u001b[1;33m(\u001b[0m\u001b[0mtrain_result\u001b[0m\u001b[1;33m.\u001b[0m\u001b[0mtext\u001b[0m\u001b[1;33m)\u001b[0m\u001b[1;33m)\u001b[0m\u001b[1;33m\u001b[0m\u001b[1;33m\u001b[0m\u001b[0m\n\u001b[0m",
      "\u001b[1;31mNameError\u001b[0m: name 'train_result' is not defined"
     ]
    }
   ],
   "source": [
    "from IPython.core.display import display, HTML\n",
    "display(HTML(train_result.text))"
   ]
  },
  {
   "cell_type": "code",
   "execution_count": 8,
   "metadata": {},
   "outputs": [
    {
     "ename": "NameError",
     "evalue": "name 'train_result' is not defined",
     "output_type": "error",
     "traceback": [
      "\u001b[1;31m---------------------------------------------------------------------------\u001b[0m",
      "\u001b[1;31mNameError\u001b[0m                                 Traceback (most recent call last)",
      "\u001b[1;32m<ipython-input-8-4afa7c01483b>\u001b[0m in \u001b[0;36m<module>\u001b[1;34m\u001b[0m\n\u001b[1;32m----> 1\u001b[1;33m \u001b[0mtrain_result\u001b[0m\u001b[1;33m.\u001b[0m\u001b[0mtext\u001b[0m\u001b[1;33m\u001b[0m\u001b[1;33m\u001b[0m\u001b[0m\n\u001b[0m",
      "\u001b[1;31mNameError\u001b[0m: name 'train_result' is not defined"
     ]
    }
   ],
   "source": [
    "train_result.text"
   ]
  },
  {
   "cell_type": "code",
   "execution_count": null,
   "metadata": {},
   "outputs": [],
   "source": []
  }
 ],
 "metadata": {
  "kernelspec": {
   "display_name": "Python 3",
   "language": "python",
   "name": "python3"
  },
  "language_info": {
   "codemirror_mode": {
    "name": "ipython",
    "version": 3
   },
   "file_extension": ".py",
   "mimetype": "text/x-python",
   "name": "python",
   "nbconvert_exporter": "python",
   "pygments_lexer": "ipython3",
   "version": "3.7.2"
  }
 },
 "nbformat": 4,
 "nbformat_minor": 2
}
